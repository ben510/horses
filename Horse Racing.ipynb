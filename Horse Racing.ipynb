{
 "cells": [
  {
   "cell_type": "code",
   "execution_count": 243,
   "metadata": {},
   "outputs": [
    {
     "name": "stdout",
     "output_type": "stream",
     "text": [
      "Copy and paste pool data from TVG\n",
      "Pools Win\tPlace\tShow All\t$226,553\t$77,967\t$44,529 1\t$15,587\t$6,028\t$3,989 2\t$19,113\t$6,638\t$3,267 3\t$14,832\t$5,430\t$3,237 4\t$10,343\t$4,283\t$1,897 5\t$24,270\t$8,276\t$4,920 6\t$65,627\t$19,422\t$11,051 7\t$14,407\t$5,086\t$3,372 8\t$6,389\t$3,668\t$2,953 9\t$3,943\t$1,882\t$1,414 10\t$45,915\t$14,833\t$6,894 11\t$6,127\t$2,421\t$1,535\n"
     ]
    }
   ],
   "source": [
    "print('Copy and paste pool data from TVG')\n",
    "rawData = input()"
   ]
  },
  {
   "cell_type": "code",
   "execution_count": 244,
   "metadata": {},
   "outputs": [],
   "source": [
    "rawData1 = rawData.split('\\t') #break up raw data into list, still need to separate $ and numbers"
   ]
  },
  {
   "cell_type": "code",
   "execution_count": 245,
   "metadata": {},
   "outputs": [],
   "source": [
    "rawData0 = rawData.replace('\\t',\" \") #remove tabs\n",
    "rawData01 = rawData0.replace('$', \"\") #remove $\n",
    "rawData02 = rawData01.replace(',', '') #remove , from dollar amounts"
   ]
  },
  {
   "cell_type": "code",
   "execution_count": 246,
   "metadata": {},
   "outputs": [],
   "source": [
    "rawListStr = rawData02.split(' ')\n",
    "del rawListStr[0:5] #removes words 'pool win place show all' from list\n",
    "raw = list(map(int, rawListStr))"
   ]
  },
  {
   "cell_type": "code",
   "execution_count": 247,
   "metadata": {},
   "outputs": [],
   "source": [
    "totPools = raw[:3] #total pools for the race\n",
    "noHorses=int(((len(raw)-3)/4)) #number of horses in race\n",
    "horsePools = raw[3:len(raw)] #pools for each horse"
   ]
  },
  {
   "cell_type": "code",
   "execution_count": null,
   "metadata": {
    "collapsed": true
   },
   "outputs": [],
   "source": []
  },
  {
   "cell_type": "code",
   "execution_count": 248,
   "metadata": {},
   "outputs": [],
   "source": [
    "#try creating dictionary\n",
    "h={}\n",
    "for x in range(1,(noHorses+1)):\n",
    "    st = x*4\n",
    "    fi = x*4+3\n",
    "    h[\"H{0}\".format(x)]=raw[st:fi]\n"
   ]
  },
  {
   "cell_type": "code",
   "execution_count": 249,
   "metadata": {
    "collapsed": true
   },
   "outputs": [],
   "source": [
    "#Create variables for each horse's pool\n",
    "for x in range(1,(horses+1)):\n",
    "    Wox = 0"
   ]
  },
  {
   "cell_type": "code",
   "execution_count": 250,
   "metadata": {},
   "outputs": [
    {
     "name": "stdout",
     "output_type": "stream",
     "text": [
      "{1: 0.16552255084365175, 2: 0.16552255084365175, 3: 0.16552255084365175, 4: 0.16552255084365175, 5: 0.16552255084365175, 6: 0.16552255084365175, 7: 0.16552255084365175, 8: 0.16552255084365175, 9: 0.16552255084365175, 10: 0.16552255084365175, 11: 0.16552255084365175}\n"
     ]
    }
   ],
   "source": [
    "#find win odds using dictionary ABANDONED\n",
    "Wo = {} #dictionary of win odds\n",
    "for x in range(1,(noHorses+1)):\n",
    "    Wo[x] = pools[0]/h['H1'][0]\n",
    "print(Wo)"
   ]
  },
  {
   "cell_type": "code",
   "execution_count": 251,
   "metadata": {},
   "outputs": [
    {
     "name": "stdout",
     "output_type": "stream",
     "text": [
      "[[15587, 6028, 3989], [19113, 6638, 3267], [14832, 5430, 3237], [10343, 4283, 1897], [24270, 8276, 4920], [65627, 19422, 11051], [14407, 5086, 3372], [6389, 3668, 2953], [3943, 1882, 1414], [45915, 14833, 6894], [6127, 2421, 1535], []]\n",
      "15587\n"
     ]
    }
   ],
   "source": [
    "#individual horse pools as list\n",
    "horse = [raw[(4*i):4*i+3]for i in range(1,(horses+1))]\n",
    "print(horse)\n",
    "print(horse[0][0])"
   ]
  },
  {
   "cell_type": "code",
   "execution_count": 252,
   "metadata": {},
   "outputs": [],
   "source": [
    "#win place and show pools as lists\n",
    "for i in range(noHorses):\n",
    "    win1 = [horsePools[1+4*i]]\n",
    "win = horsePools[1::4]\n",
    "place = horsePools[2::4]\n",
    "show = horsePools[3::4]"
   ]
  },
  {
   "cell_type": "code",
   "execution_count": 253,
   "metadata": {},
   "outputs": [],
   "source": [
    "# win place show odds\n",
    "winOdds = [1/(x / totPools[0]) for x in win]\n",
    "placeOdds = [1/(x / totPools[1]) for x in place]\n",
    "showOdds = [1/(x / totPools[2]) for x in show]"
   ]
  },
  {
   "cell_type": "code",
   "execution_count": 254,
   "metadata": {},
   "outputs": [
    {
     "name": "stdout",
     "output_type": "stream",
     "text": [
      "Odds for each horse w/p/s\n",
      "Horse 1 [14.534740488868929, 12.934140676841407, 11.16294810729506]\n",
      "Horse 2 [11.853345890231779, 11.745555890328411, 13.629935720844813]\n",
      "Horse 3 [15.274608953613807, 14.358563535911603, 13.75625579240037]\n",
      "Horse 4 [21.90399303877018, 18.203829091758113, 23.47337901950448]\n",
      "Horse 5 [9.334693036670787, 9.420855485741905, 9.050609756097561]\n",
      "Horse 6 [3.452130982674814, 4.01436515291937, 4.029409103248575]\n",
      "Horse 7 [15.725203026306657, 15.329728666928823, 13.205516014234876]\n",
      "Horse 8 [35.45985287212396, 21.25599781897492, 15.07924144937352]\n",
      "Horse 9 [57.45701242708598, 41.42773645058448, 31.491513437057993]\n",
      "Horse 10 [4.934182728955679, 5.256320366749815, 6.459094865100086]\n",
      "Horse 11 [36.976171046188995, 32.20446096654275, 29.00912052117264]\n"
     ]
    }
   ],
   "source": [
    "print('Odds for each horse w/p/s')\n",
    "for x in range(noHorses):\n",
    "    print('Horse',x+1,[winOdds[x], placeOdds[x],showOdds[x]])"
   ]
  }
 ],
 "metadata": {
  "kernelspec": {
   "display_name": "Python 3",
   "language": "python",
   "name": "python3"
  },
  "language_info": {
   "codemirror_mode": {
    "name": "ipython",
    "version": 3
   },
   "file_extension": ".py",
   "mimetype": "text/x-python",
   "name": "python",
   "nbconvert_exporter": "python",
   "pygments_lexer": "ipython3",
   "version": "3.6.5"
  }
 },
 "nbformat": 4,
 "nbformat_minor": 2
}
